{
 "cells": [
  {
   "cell_type": "code",
   "execution_count": 145,
   "id": "5524deb7",
   "metadata": {},
   "outputs": [],
   "source": [
    "from gurobipy import *\n",
    "from gurobipy import GRB\n",
    "import math"
   ]
  },
  {
   "cell_type": "code",
   "execution_count": 146,
   "id": "c45648a1",
   "metadata": {},
   "outputs": [],
   "source": [
    "m = Model(\"Modelo Proyecto\")"
   ]
  },
  {
   "cell_type": "code",
   "execution_count": 147,
   "id": "e80e5ad1",
   "metadata": {},
   "outputs": [],
   "source": [
    "edges = [\n",
    "    [14, 13, 7.50, 10.00],\n",
    "#     [13, 12, 8.00, 11.00],\n",
    "#     [13, 11, 9.00, 18.00],\n",
    "#     [11, 10, 4.00, 4.00],\n",
    "#     [14, 9, 11.00, 11.00],\n",
    "#     [9, 8, 8.00, 11.00],\n",
    "#     [9, 7, 11.00, 11.00],\n",
    "#     [8, 6, 11.00, 11.00],\n",
    "#     [8, 5, 8.00, 11.00],\n",
    "#     [14, 4, 11.00, 11.00],\n",
    "#     [4, 3, 9.00, 12.00],\n",
    "#     [4, 2, 8.00, 11.00],\n",
    "#     [2, 1, 4.00, 4.00],\n",
    "#     [12, 6, 4.00, 4.00],\n",
    "#     [7, 3, 4.00, 4.00],\n",
    "#     [10, 1, 9.00, 12.00]\n",
    "]\n",
    "\n",
    "nodes = [\n",
    "    [14, 0.0, 0.0, 0.0],\n",
    "    [13, 2000.0, 1600.0, 0.0],\n",
    "#     [12, 3000.0, 1500.0, 1100.0],\n",
    "#     [11, 2000.0, 800.0, 1200.0],\n",
    "#     [10, 1500.0, 1200.0, 0.0],\n",
    "#     [9, 4000.0, 2700.0, 0.0],\n",
    "#     [8, 5000.0, 3000.0, 1200.0],\n",
    "#     [7, 1000.0, 900.0, 0.0],\n",
    "#     [6, 600.0, 100.0, 600.0],\n",
    "#     [5, 4500.0, 2000.0, 3700.0],\n",
    "#     [4, 1000.0, 900.0, 0.0],\n",
    "#     [3, 1000.0, 700.0, 1800.0],\n",
    "#     [2, 1000.0, 900.0, 0.0],\n",
    "#     [1, 2100.0, 1000.0, 1800.0]\n",
    "]"
   ]
  },
  {
   "cell_type": "code",
   "execution_count": 148,
   "id": "eef65528",
   "metadata": {},
   "outputs": [],
   "source": [
    "# Sets\n",
    "\n",
    "N = [node[0] for node in nodes]\n",
    "E = [(edge[0], edge[1]) for edge in edges]\n"
   ]
  },
  {
   "cell_type": "code",
   "execution_count": 149,
   "id": "e05487fc",
   "metadata": {},
   "outputs": [],
   "source": [
    "# Parametros\n",
    "\n",
    "nref = 14\n",
    "vref = 1\n",
    "vbase = 23\n",
    "sbase = 100000\n",
    "tol = 10**-8\n",
    "vmin = 0.93\n",
    "vmax = 1.05\n",
    "zbase = 100\n",
    "\n",
    "\n",
    "R = {(edge[0], edge[1]): (edge[2]/100)*(vbase**2)/sbase for edge in edges}\n",
    "X = {(edge[0], edge[1]): (edge[3]/100)*(vbase**2)/sbase for edge in edges}\n",
    "Z = {(edge[0], edge[1]): math.sqrt((edge[2]/100)*zbase + (edge[3]/100)*zbase) for edge in edges}\n",
    "minV = vmin*vbase\n",
    "maxV = vmax*vbase\n",
    "refV = vref*vbase\n",
    "\n",
    "# Falta por saber\n",
    "Imax = {(edge[0], edge[1]): maxV/R[(edge[0], edge[1])] for edge in edges}\n",
    "\n",
    "Pd = {node[0]: node[1] for node in nodes}\n",
    "Qd = {node[0]: node[2] for node in nodes}\n",
    "Qbc = {node[0]: node[3] for node in nodes}\n",
    "deltaS = {}\n",
    "deltaV = {}\n",
    "mS = 0\n",
    "n = len(N)\n",
    "s = 5\n",
    "w = 5\n",
    "\n",
    "b = 1000000"
   ]
  },
  {
   "cell_type": "code",
   "execution_count": 150,
   "id": "077255a2",
   "metadata": {},
   "outputs": [],
   "source": [
    "# Variables Proyecto\n",
    "\n",
    "Pg = m.addVars(N, vtype=GRB.CONTINUOUS, name=\"Pg\")\n",
    "Qg = m.addVars(N, vtype=GRB.CONTINUOUS, name=\"Qg\")\n",
    "P = m.addVars(E, vtype=GRB.CONTINUOUS, name=\"P\")\n",
    "Q = m.addVars(E, vtype=GRB.CONTINUOUS, name=\"Q\")\n",
    "V = m.addVars(N, vtype=GRB.CONTINUOUS, name=\"V\")\n",
    "I = m.addVars(E, vtype=GRB.CONTINUOUS, name=\"I\")\n",
    "deltaV = m.addVars(E, vtype=GRB.CONTINUOUS, lb=float('-inf'), name=\"deltaV\")\n",
    "y = m.addVars(E, vtype=GRB.BINARY, name=\"y\")"
   ]
  },
  {
   "cell_type": "code",
   "execution_count": 151,
   "id": "df459313",
   "metadata": {},
   "outputs": [],
   "source": [
    "# Funcion objetivo\n",
    "\n",
    "m.setObjective(quicksum(R[edge] * I[edge] for edge in E), GRB.MINIMIZE)"
   ]
  },
  {
   "cell_type": "code",
   "execution_count": 152,
   "id": "a209189b",
   "metadata": {},
   "outputs": [],
   "source": [
    "# Restricciones Proyecto\n",
    "for node in N:\n",
    "    m.addConstr(quicksum(P[edge] for edge in E if edge[1] == node) - quicksum(P[edge] + R[edge]*I[edge] for edge in E if edge[0] == node) + Pg[node] == Pd[node])\n",
    "    m.addConstr(quicksum(Q[edge] for edge in E if edge[1] == node) - quicksum(Q[edge] + X[edge]*I[edge] for edge in E if edge[0] == node) + Qg[node] == Qd[node])\n",
    "\n",
    "for edge in E:\n",
    "    m.addConstr(V[edge[0]] == V[edge[1]] + 2*(R[edge]*P[edge] + X[edge]*Q[edge]) + Z[edge]**2*I[edge] + deltaV[edge])\n",
    "    m.addConstr(-b*(1-y[edge]) <= deltaV[edge])\n",
    "    m.addConstr(deltaV[edge] <= b*(1-y[edge]))\n",
    "    m.addConstr(V[edge[0]]*I[edge] == P[edge]**2 + Q[edge]**2)\n",
    "\n",
    "for node in N:\n",
    "    m.addConstr(minV**2 <= V[node])\n",
    "    m.addConstr(V[node] <= maxV**2)\n",
    "    m.addConstr(I[edge] <= Imax[edge]*y[edge])\n",
    "    \n",
    "m.addConstr(quicksum(y[edge] for edge in E) == n - 1)\n",
    "\n",
    "for node in N:\n",
    "    if node != nref:\n",
    "        m.addConstr(Pg[node] == 0)\n",
    "        m.addConstr(Qg[node] == 0)        "
   ]
  },
  {
   "cell_type": "code",
   "execution_count": 153,
   "id": "a6ebffff",
   "metadata": {
    "scrolled": true
   },
   "outputs": [
    {
     "name": "stdout",
     "output_type": "stream",
     "text": [
      "Set parameter FeasibilityTol to value 1e-08\n",
      "Gurobi Optimizer version 10.0.2 build v10.0.2rc0 (win64)\n",
      "\n",
      "CPU model: Intel(R) Core(TM) i5-7300HQ CPU @ 2.50GHz, instruction set [SSE2|AVX|AVX2]\n",
      "Thread count: 4 physical cores, 4 logical processors, using up to 4 threads\n",
      "\n",
      "Optimize a model with 16 rows, 11 columns and 31 nonzeros\n",
      "Model fingerprint: 0x6315ba75\n",
      "Model has 1 quadratic constraint\n",
      "Variable types: 10 continuous, 1 integer (1 binary)\n",
      "Coefficient statistics:\n",
      "  Matrix range     [4e-04, 1e+06]\n",
      "  QMatrix range    [1e+00, 1e+00]\n",
      "  Objective range  [4e-04, 4e-04]\n",
      "  Bounds range     [1e+00, 1e+00]\n",
      "  RHS range        [1e+00, 1e+06]\n",
      "Presolve removed 15 rows and 7 columns\n",
      "Presolve time: 0.00s\n",
      "\n",
      "Explored 0 nodes (0 simplex iterations) in 0.01 seconds (0.00 work units)\n",
      "Thread count was 1 (of 4 available processors)\n",
      "\n",
      "Solution count 0\n",
      "\n",
      "Model is infeasible\n",
      "Best objective -, best bound -, gap -\n"
     ]
    }
   ],
   "source": [
    "# m.setParam(GRB.Param.NonConvex, 2)\n",
    "m.setParam(GRB.Param.FeasibilityTol, tol)\n",
    "m.optimize()"
   ]
  },
  {
   "cell_type": "code",
   "execution_count": 154,
   "id": "976ff51d",
   "metadata": {},
   "outputs": [
    {
     "name": "stdout",
     "output_type": "stream",
     "text": [
      "Minimize\n",
      "  0.00039674999999999997 I[14,13]\n",
      "Subject To\n",
      "  R0: Pg[14] + -1.0 P[14,13] + -0.00039674999999999997 I[14,13] = 0\n",
      "  R1: Qg[14] + -1.0 Q[14,13] + -0.0005290000000000001 I[14,13] = 0\n",
      "  R2: Pg[13] + P[14,13] = 2000\n",
      "  R3: Qg[13] + Q[14,13] = 1600\n",
      "R4: -0.0007934999999999999 P[14,13] + -0.0010580000000000001 Q[14,13] + V[14] + -1.0\n",
      " V[13] + -17.5 I[14,13] + -1.0 deltaV[14,13] = 0\n",
      "  R5: -1.0 deltaV[14,13] + 1000000.0 y[14,13] <= 1e+06\n",
      "  R6: deltaV[14,13] + 1000000.0 y[14,13] <= 1e+06\n",
      "  R7: V[14] >= 457.532\n",
      "  R8: V[14] <= 583.223\n",
      "  R9: I[14,13] + -60869.56521739131 y[14,13] <= 0\n",
      "  R10: V[13] >= 457.532\n",
      "  R11: V[13] <= 583.223\n",
      "  R12: I[14,13] + -60869.56521739131 y[14,13] <= 0\n",
      "  R13: y[14,13] = 1\n",
      "  R14: Pg[13] = 0\n",
      "  R15: Qg[13] = 0\n",
      "  : 0.0 + [ -1.0 P[14,13] ^ 2 + -1.0 Q[14,13] ^ 2 + V[14] * I[14,13] ] >= 0\n",
      "Bounds\n",
      "  deltaV[14,13] free\n",
      "Binaries\n",
      "  ['y[14,13]']\n"
     ]
    }
   ],
   "source": [
    "m.display()"
   ]
  },
  {
   "cell_type": "code",
   "execution_count": 53,
   "id": "352e3213",
   "metadata": {},
   "outputs": [],
   "source": [
    "# Variables Paper\n",
    "\n",
    "Pg = m.addVars(N, vtype=GRB.CONTINUOUS, name=\"Pg\")\n",
    "Qg = m.addVars(N, vtype=GRB.CONTINUOUS, name=\"Qg\")\n",
    "P = m.addVars(E, vtype=GRB.CONTINUOUS, name=\"P\")\n",
    "Q = m.addVars(E, vtype=GRB.CONTINUOUS, name=\"Q\")\n",
    "V = m.addVars(N, vtype=GRB.CONTINUOUS, name=\"V\")\n",
    "I = m.addVars(E, vtype=GRB.CONTINUOUS, name=\"I\")\n",
    "Ppos = m.addVars(E, vtype=GRB.CONTINUOUS, name=\"Ppos\")\n",
    "Pneg = m.addVars(E, vtype=GRB.CONTINUOUS, name=\"Pneg\")\n",
    "Qpos = m.addVars(E, vtype=GRB.CONTINUOUS, name=\"Qpos\")\n",
    "Pneg = m.addVars(E, vtype=GRB.CONTINUOUS, name=\"Pneg\")\n",
    "ypos = m.addVars(E, vtype=GRB.BINARY, name=\"ypos\")\n",
    "yneg = m.addVars(E, vtype=GRB.BINARY, name=\"yneg\")\n",
    "x = m.addVars(N, vtype=GRB.BINARY, name=\"x\")\n",
    "deltaP = m.addVars(E, vtype=GRB.CONTINUOUS, name=\"deltaP\")\n",
    "deltaQ = m.addVars(E, vtype=GRB.CONTINUOUS, name=\"deltaQ\")\n",
    "a = m.addVars(E, vtype=GRB.CONTINUOUS, name=\"a\")\n",
    "Pc = m.addVars(E, vtype=GRB.CONTINUOUS, name=\"Pc\")\n",
    "\n",
    "deltaV = m.addVars(E, vtype=GRB.CONTINUOUS, lb=float('-inf'), name=\"deltaV\")\n",
    "y = m.addVars(E, vtype=GRB.BINARY, name=\"y\")"
   ]
  },
  {
   "cell_type": "code",
   "execution_count": 13,
   "id": "3d9348ab",
   "metadata": {},
   "outputs": [],
   "source": [
    "# Restricciones Paper\n",
    "\n",
    "for node in N:\n",
    "    m.addConstr(quicksum(P[edge] for edge in E if edge[1] == node) - quicksum(P[edge] + R[edge]*I[edge] for edge in E if edge[1] == node) + Pg[node] == Pd[node])\n",
    "    m.addConstr(quicksum(Q[edge] for edge in E if edge[1] == node) - quicksum(Q[edge] + X[edge]*I[edge] for edge in E if edge[1] == node) + Qg[node] == Qd[node])\n",
    "\n",
    "for edge in E:\n",
    "    m.addConstr(V[edge[0]] - 2*(R[edge]*P[edge] + X[edge]*Q[edge]) - Z[edge]**2*I[edge] - V[edge[1]] - a[edge] == 0)\n",
    "    m.addConstr(V[edge[0]]*I[edge] == P[edge]**2 + Q[edge]**2)\n",
    "\n",
    "for node in N:\n",
    "    m.addConstr(minV**2 <= V[node])\n",
    "    m.addConstr(V[node] <= maxV**2)\n",
    "    \n",
    "for edge in E:\n",
    "    m.addConstr(I[edge] <= Imax[edge]**2*(ypos[edge] + yneg[edge]))\n",
    "    m.addConstr(Ppos[edge] - Pneg[edge] == P[edge])\n",
    "    m.addConstr(Ppos[edge] <= maxV*Imax[edge]*ypos[edge])\n",
    "    m.addConstr(Pneg[edge] <= maxV*Imax[edge]*yneg[edge])\n",
    "    m.addConstr(-maxV*Imax[edge]*(ypos[edge] + yneg[edge]) <= Q[edge])\n",
    "    m.addConstr(Q[edge] <= maxV*Imax[edge]*(ypos[edge] + yneg[edge]))\n",
    "    m.addConstr(a[edge] <= (maxV**2-minV**2)*(1-(ypos[edge] + yneg[edge])))\n",
    "\n",
    "m.addConstr(quicksum(ypos[edge] + yneg[edge] for edge in E) == n - 1)\n",
    "for edge in E:\n",
    "    m.addConstr(ypos[edge] + yneg[edge] <= 1)\n",
    "    m.addConstr(ypos[edge] <= 1)\n",
    "    m.addConstr(yneg[edge] <= 1)    "
   ]
  },
  {
   "cell_type": "code",
   "execution_count": 144,
   "id": "ed990933",
   "metadata": {},
   "outputs": [
    {
     "data": {
      "image/png": "[encoded data removed]",
      "text/plain": [
       "<Figure size 864x864 with 1 Axes>"
      ]
     },
     "metadata": {},
     "output_type": "display_data"
    }
   ],
   "source": [
    "import networkx as nx\n",
    "import matplotlib.pyplot as plt\n",
    "\n",
    "G = nx.DiGraph()\n",
    "\n",
    "active_edges = [edge for edge in E if m.getVarByName(f'y[{edge[0]},{edge[1]}]').X == 1]\n",
    "G.add_nodes_from(N)\n",
    "G.add_edges_from(active_edges)\n",
    "\n",
    "pos = nx.nx_agraph.graphviz_layout(G, prog=\"dot\")\n",
    "plt.figure(3,figsize=(12,12)) \n",
    "nx.draw(G, node_size=1500, node_color=\"skyblue\", pos=pos)\n",
    "nx.draw_networkx_edge_labels(\n",
    "    G, pos,\n",
    "    edge_labels={edge: str(m.getVarByName(f'P[{edge[0]},{edge[1]}]').X) +\"-\"+ str(m.getVarByName(f'Q[{edge[0]},{edge[1]}]').X) + \"-\" + str(m.getVarByName(f'I[{edge[0]},{edge[1]}]').X) for edge in active_edges}\n",
    ")\n",
    "nx.draw_networkx_labels(G, pos, {node: str(node) + \"-\" + str(round(m.getVarByName(f'V[{node}]').X)) for node in N})\n",
    "plt.show()"
   ]
  },
  {
   "cell_type": "code",
   "execution_count": null,
   "id": "bb55140c",
   "metadata": {},
   "outputs": [],
   "source": [
    "!conda install -c conda-forge pygraphviz"
   ]
  }
 ],
 "metadata": {
  "kernelspec": {
   "display_name": "Python 3 (ipykernel)",
   "language": "python",
   "name": "python3"
  },
  "language_info": {
   "codemirror_mode": {
    "name": "ipython",
    "version": 3
   },
   "file_extension": ".py",
   "mimetype": "text/x-python",
   "name": "python",
   "nbconvert_exporter": "python",
   "pygments_lexer": "ipython3",
   "version": "3.9.7"
  }
 },
 "nbformat": 4,
 "nbformat_minor": 5
}
