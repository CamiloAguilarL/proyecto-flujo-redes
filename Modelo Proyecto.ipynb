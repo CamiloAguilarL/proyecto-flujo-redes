{
 "cells": [
  {
   "cell_type": "code",
   "execution_count": null,
   "id": "6ea58e76",
   "metadata": {},
   "outputs": [],
   "source": [
    "from gurobipy import *\n",
    "from gurobipy import GRB\n",
    "import math"
   ]
  },
  {
   "cell_type": "code",
   "execution_count": null,
   "id": "165008ac",
   "metadata": {},
   "outputs": [],
   "source": [
    "m = Model(\"Modelo Proyecto\")"
   ]
  },
  {
   "cell_type": "code",
   "execution_count": null,
   "id": "4a457c09",
   "metadata": {},
   "outputs": [],
   "source": [
    "edges = [\n",
    "    [14, 13, 7.50, 10.00],\n",
    "    [13, 12, 8.00, 11.00],\n",
    "    [13, 11, 9.00, 18.00],\n",
    "    [11, 10, 4.00, 4.00],\n",
    "    [14, 9, 11.00, 11.00],\n",
    "    [9, 8, 8.00, 11.00],\n",
    "    [9, 7, 11.00, 11.00],\n",
    "    [8, 6, 11.00, 11.00],\n",
    "    [8, 5, 8.00, 11.00],\n",
    "    [14, 4, 11.00, 11.00],\n",
    "    [4, 3, 9.00, 12.00],\n",
    "    [4, 2, 8.00, 11.00],\n",
    "    [2, 1, 4.00, 4.00],\n",
    "    [12, 6, 4.00, 4.00],\n",
    "    [7, 3, 4.00, 4.00],\n",
    "    [10, 1, 9.00, 12.00]\n",
    "]\n",
    "\n",
    "nodes = [\n",
    "    [14, 0.0, 0.0, 0.0],\n",
    "    [13, 2000.0, 1600.0, 0.0],\n",
    "    [12, 3000.0, 1500.0, 1100.0],\n",
    "    [11, 2000.0, 800.0, 1200.0],\n",
    "    [10, 1500.0, 1200.0, 0.0],\n",
    "    [9, 4000.0, 2700.0, 0.0],\n",
    "    [8, 5000.0, 3000.0, 1200.0],\n",
    "    [7, 1000.0, 900.0, 0.0],\n",
    "    [6, 600.0, 100.0, 600.0],\n",
    "    [5, 4500.0, 2000.0, 3700.0],\n",
    "    [4, 1000.0, 900.0, 0.0],\n",
    "    [3, 1000.0, 700.0, 1800.0],\n",
    "    [2, 1000.0, 900.0, 0.0],\n",
    "    [1, 2100.0, 1000.0, 1800.0]\n",
    "]"
   ]
  },
  {
   "cell_type": "code",
   "execution_count": null,
   "id": "3a11393e",
   "metadata": {},
   "outputs": [],
   "source": [
    "# Sets\n",
    "\n",
    "N = [node[0] for node in nodes]\n",
    "E = [(edge[0], edge[1]) for edge in edges]\n"
   ]
  },
  {
   "cell_type": "code",
   "execution_count": null,
   "id": "734bc8de",
   "metadata": {},
   "outputs": [],
   "source": [
    "# Parametros\n",
    "\n",
    "nref = 14\n",
    "vref = 1\n",
    "vbase = 23\n",
    "sbase = 100000\n",
    "tol = 10**-8\n",
    "vmin = 0.93\n",
    "vmax = 1.05\n",
    "zbase = 100\n",
    "\n",
    "\n",
    "R = {(edge[0], edge[1]): (edge[2]/100)*zbase for edge in edges}\n",
    "X = {(edge[0], edge[1]): (edge[3]/100)*zbase for edge in edges}\n",
    "Z = {(edge[0], edge[1]): math.sqrt((edge[2]/100)*zbase + (edge[3]/100)*zbase) for edge in edges}\n",
    "minV = vmin*vbase\n",
    "maxV = vmax*vbase\n",
    "refV = vref*vbase\n",
    "\n",
    "# Falta por saber\n",
    "Imax = {(edge[0], edge[1]): 10000 for edge in edges}\n",
    "\n",
    "Pd = {node[0]: node[1] for node in nodes}\n",
    "Qd = {node[0]: node[2] for node in nodes}\n",
    "Qbc = {node[0]: node[3] for node in nodes}\n",
    "deltaS = {}\n",
    "deltaV = {}\n",
    "mS = 0\n",
    "n = len(N)\n",
    "s = 5\n",
    "w = 5\n",
    "\n",
    "b = 100"
   ]
  },
  {
   "cell_type": "code",
   "execution_count": null,
   "id": "db5dfa34",
   "metadata": {},
   "outputs": [],
   "source": [
    "# Variables Proyecto\n",
    "\n",
    "Pg = m.addVars(N, vtype=GRB.CONTINUOUS, name=\"Pg\")\n",
    "Qg = m.addVars(N, vtype=GRB.CONTINUOUS, name=\"Qg\")\n",
    "P = m.addVars(E, vtype=GRB.CONTINUOUS, name=\"P\")\n",
    "Q = m.addVars(E, vtype=GRB.CONTINUOUS, name=\"Q\")\n",
    "V = m.addVars(N, vtype=GRB.CONTINUOUS, name=\"V\")\n",
    "I = m.addVars(E, vtype=GRB.CONTINUOUS, name=\"I\")\n",
    "deltaV = m.addVars(E, vtype=GRB.CONTINUOUS, lb=float('-inf'), name=\"deltaV\")\n",
    "y = m.addVars(E, vtype=GRB.BINARY, name=\"y\")"
   ]
  },
  {
   "cell_type": "code",
   "execution_count": null,
   "id": "99a505fd",
   "metadata": {},
   "outputs": [],
   "source": [
    "# Funcion objetivo\n",
    "\n",
    "m.setObjective(quicksum(R[edge] * I[edge] for edge in E), GRB.MINIMIZE)"
   ]
  },
  {
   "cell_type": "code",
   "execution_count": null,
   "id": "20136b18",
   "metadata": {},
   "outputs": [],
   "source": [
    "# Restricciones Proyecto\n",
    "for node in N:\n",
    "    m.addConstr(quicksum(P[edge] for edge in E if edge[1] == node) - quicksum(P[edge] + R[edge]*I[edge] for edge in E if edge[0] == node) + Pg[node] == Pd[node])\n",
    "    m.addConstr(quicksum(Q[edge] for edge in E if edge[1] == node) - quicksum(Q[edge] + X[edge]*I[edge] for edge in E if edge[0] == node) + Qg[node] == Qd[node])\n",
    "\n",
    "for edge in E:\n",
    "    m.addConstr(V[edge[0]] == V[edge[1]] + 2*(R[edge]*P[edge] + X[edge]*Q[edge]) + Z[edge]**2*I[edge] + deltaV[edge])\n",
    "    m.addConstr(-b*(1-y[edge]) <= deltaV[edge])\n",
    "    m.addConstr(deltaV[edge] <= b*(1-y[edge]))\n",
    "    m.addConstr(V[edge[0]]*I[edge] == P[edge]**2 + Q[edge]**2)\n",
    "\n",
    "for node in N:\n",
    "    m.addConstr(minV**2 <= V[node])\n",
    "    m.addConstr(V[node] <= maxV**2)\n",
    "    m.addConstr(I[edge] <= Imax[edge]*y[edge])\n",
    "    \n",
    "m.addConstr(quicksum(y[edge] for edge in E) == n - 1)\n",
    "\n",
    "for node in N:\n",
    "    if node != nref:\n",
    "        m.addConstr(Pg[node] == 0)\n",
    "        m.addConstr(Qg[node] == 0)        "
   ]
  },
  {
   "cell_type": "code",
   "execution_count": null,
   "id": "41b619a6",
   "metadata": {},
   "outputs": [],
   "source": [
    "m.setParam(GRB.Param.NonConvex, 2)\n",
    "m.setParam(GRB.Param.FeasibilityTol, tol)\n",
    "m.optimize()"
   ]
  },
  {
   "cell_type": "code",
   "execution_count": null,
   "id": "dc72e4e7",
   "metadata": {},
   "outputs": [],
   "source": [
    "m.getVars()"
   ]
  },
  {
   "cell_type": "code",
   "execution_count": null,
   "id": "de835459",
   "metadata": {},
   "outputs": [],
   "source": [
    "# Variables Paper\n",
    "\n",
    "Pg = m.addVars(N, vtype=GRB.CONTINUOUS, name=\"Pg\")\n",
    "Qg = m.addVars(N, vtype=GRB.CONTINUOUS, name=\"Qg\")\n",
    "P = m.addVars(E, vtype=GRB.CONTINUOUS, name=\"P\")\n",
    "Q = m.addVars(E, vtype=GRB.CONTINUOUS, name=\"Q\")\n",
    "V = m.addVars(N, vtype=GRB.CONTINUOUS, name=\"V\")\n",
    "I = m.addVars(E, vtype=GRB.CONTINUOUS, name=\"I\")\n",
    "Ppos = m.addVars(E, vtype=GRB.CONTINUOUS, name=\"Ppos\")\n",
    "Pneg = m.addVars(E, vtype=GRB.CONTINUOUS, name=\"Pneg\")\n",
    "Qpos = m.addVars(E, vtype=GRB.CONTINUOUS, name=\"Qpos\")\n",
    "Pneg = m.addVars(E, vtype=GRB.CONTINUOUS, name=\"Pneg\")\n",
    "ypos = m.addVars(E, vtype=GRB.BINARY, name=\"ypos\")\n",
    "yneg = m.addVars(E, vtype=GRB.BINARY, name=\"yneg\")\n",
    "x = m.addVars(N, vtype=GRB.BINARY, name=\"x\")\n",
    "deltaP = m.addVars(E, vtype=GRB.CONTINUOUS, name=\"deltaP\")\n",
    "deltaQ = m.addVars(E, vtype=GRB.CONTINUOUS, name=\"deltaQ\")\n",
    "a = m.addVars(E, vtype=GRB.CONTINUOUS, name=\"a\")\n",
    "Pc = m.addVars(E, vtype=GRB.CONTINUOUS, name=\"Pc\")\n",
    "\n",
    "deltaV = m.addVars(E, vtype=GRB.CONTINUOUS, lb=float('-inf'), name=\"deltaV\")\n",
    "y = m.addVars(E, vtype=GRB.BINARY, name=\"y\")"
   ]
  },
  {
   "cell_type": "code",
   "execution_count": null,
   "id": "efdab868",
   "metadata": {},
   "outputs": [],
   "source": [
    "# Restricciones Paper\n",
    "\n",
    "for node in N:\n",
    "    m.addConstr(quicksum(P[edge] for edge in E if edge[1] == node) - quicksum(P[edge] + R[edge]*I[edge] for edge in E if edge[1] == node) + Pg[node] == Pd[node])\n",
    "    m.addConstr(quicksum(Q[edge] for edge in E if edge[1] == node) - quicksum(Q[edge] + X[edge]*I[edge] for edge in E if edge[1] == node) + Qg[node] == Qd[node])\n",
    "\n",
    "for edge in E:\n",
    "    m.addConstr(V[edge[0]] - 2*(R[edge]*P[edge] + X[edge]*Q[edge]) - Z[edge]**2*I[edge] - V[edge[1]] - a[edge] == 0)\n",
    "    m.addConstr(V[edge[0]]*I[edge] == P[edge]**2 + Q[edge]**2)\n",
    "\n",
    "for node in N:\n",
    "    m.addConstr(minV**2 <= V[node])\n",
    "    m.addConstr(V[node] <= maxV**2)\n",
    "    \n",
    "for edge in E:\n",
    "    m.addConstr(I[edge] <= Imax[edge]**2*(ypos[edge] + yneg[edge]))\n",
    "    m.addConstr(Ppos[edge] - Pneg[edge] == P[edge])\n",
    "    m.addConstr(Ppos[edge] <= maxV*Imax[edge]*ypos[edge])\n",
    "    m.addConstr(Pneg[edge] <= maxV*Imax[edge]*yneg[edge])\n",
    "    m.addConstr(-maxV*Imax[edge]*(ypos[edge] + yneg[edge]) <= Q[edge])\n",
    "    m.addConstr(Q[edge] <= maxV*Imax[edge]*(ypos[edge] + yneg[edge]))\n",
    "    m.addConstr(a[edge] <= (maxV**2-minV**2)*(1-(ypos[edge] + yneg[edge])))\n",
    "\n",
    "m.addConstr(quicksum(ypos[edge] + yneg[edge] for edge in E) == n - 1)\n",
    "for edge in E:\n",
    "    m.addConstr(ypos[edge] + yneg[edge] <= 1)\n",
    "    m.addConstr(ypos[edge] <= 1)\n",
    "    m.addConstr(yneg[edge] <= 1)    "
   ]
  }
 ],
 "metadata": {
  "kernelspec": {
   "display_name": "Python 3 (ipykernel)",
   "language": "python",
   "name": "python3"
  },
  "language_info": {
   "codemirror_mode": {
    "name": "ipython",
    "version": 3
   },
   "file_extension": ".py",
   "mimetype": "text/x-python",
   "name": "python",
   "nbconvert_exporter": "python",
   "pygments_lexer": "ipython3",
   "version": "3.9.7"
  }
 },
 "nbformat": 4,
 "nbformat_minor": 5
}
