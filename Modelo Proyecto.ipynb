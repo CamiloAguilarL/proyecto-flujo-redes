{
 "cells": [
  {
   "cell_type": "code",
   "execution_count": 41,
   "id": "5524deb7",
   "metadata": {},
   "outputs": [],
   "source": [
    "from gurobipy import *\n",
    "from gurobipy import GRB\n",
    "import math"
   ]
  },
  {
   "cell_type": "code",
   "execution_count": 42,
   "id": "c45648a1",
   "metadata": {},
   "outputs": [],
   "source": [
    "m = Model(\"Modelo Proyecto\")"
   ]
  },
  {
   "cell_type": "code",
   "execution_count": 43,
   "id": "e80e5ad1",
   "metadata": {},
   "outputs": [],
   "source": [
    "edges = [\n",
    "    [14, 13, 7.50, 10.00],\n",
    "    [13, 12, 8.00, 11.00],\n",
    "    [13, 11, 9.00, 18.00],\n",
    "    [11, 10, 4.00, 4.00],\n",
    "    [14, 9, 11.00, 11.00],\n",
    "    [9, 8, 8.00, 11.00],\n",
    "    [9, 7, 11.00, 11.00],\n",
    "    [8, 6, 11.00, 11.00],\n",
    "    [8, 5, 8.00, 11.00],\n",
    "    [14, 4, 11.00, 11.00],\n",
    "    [4, 3, 9.00, 12.00],\n",
    "    [4, 2, 8.00, 11.00],\n",
    "    [2, 1, 4.00, 4.00],\n",
    "    [12, 6, 4.00, 4.00],\n",
    "    [7, 3, 4.00, 4.00],\n",
    "    [10, 1, 9.00, 12.00]\n",
    "]\n",
    "\n",
    "nodes = [\n",
    "    [14, 0.0, 0.0, 0.0],\n",
    "    [13, 2000.0, 1600.0, 0.0],\n",
    "    [12, 3000.0, 1500.0, 1100.0],\n",
    "    [11, 2000.0, 800.0, 1200.0],\n",
    "    [10, 1500.0, 1200.0, 0.0],\n",
    "    [9, 4000.0, 2700.0, 0.0],\n",
    "    [8, 5000.0, 3000.0, 1200.0],\n",
    "    [7, 1000.0, 900.0, 0.0],\n",
    "    [6, 600.0, 100.0, 600.0],\n",
    "    [5, 4500.0, 2000.0, 3700.0],\n",
    "    [4, 1000.0, 900.0, 0.0],\n",
    "    [3, 1000.0, 700.0, 1800.0],\n",
    "    [2, 1000.0, 900.0, 0.0],\n",
    "    [1, 2100.0, 1000.0, 1800.0]\n",
    "]"
   ]
  },
  {
   "cell_type": "code",
   "execution_count": 44,
   "id": "eef65528",
   "metadata": {},
   "outputs": [],
   "source": [
    "# Sets\n",
    "\n",
    "N = [node[0] for node in nodes]\n",
    "E = [(edge[0], edge[1]) for edge in edges]\n"
   ]
  },
  {
   "cell_type": "code",
   "execution_count": 45,
   "id": "e05487fc",
   "metadata": {},
   "outputs": [],
   "source": [
    "# Parametros\n",
    "\n",
    "nref = 14\n",
    "vref = 1\n",
    "vbase = 23\n",
    "sbase = 100000\n",
    "tol = 10**-8\n",
    "vmin = 0.93\n",
    "vmax = 1.05\n",
    "zbase = 100\n",
    "\n",
    "\n",
    "R = {(edge[0], edge[1]): (edge[2]/100)*zbase for edge in edges}\n",
    "X = {(edge[0], edge[1]): (edge[3]/100)*zbase for edge in edges}\n",
    "Z = {(edge[0], edge[1]): math.sqrt((edge[2]/100)*zbase + (edge[3]/100)*zbase) for edge in edges}\n",
    "minV = vmin*vbase\n",
    "maxV = vmax*vbase\n",
    "refV = vref*vbase\n",
    "\n",
    "# Falta por saber\n",
    "Imax = {(edge[0], edge[1]): 10000 for edge in edges}\n",
    "\n",
    "Pd = {node[0]: node[1] for node in nodes}\n",
    "Qd = {node[0]: node[2] for node in nodes}\n",
    "Qbc = {node[0]: node[3] for node in nodes}\n",
    "deltaS = {}\n",
    "deltaV = {}\n",
    "mS = 0\n",
    "n = len(N)\n",
    "s = 5\n",
    "w = 5\n",
    "\n",
    "b = 100"
   ]
  },
  {
   "cell_type": "code",
   "execution_count": 46,
   "id": "077255a2",
   "metadata": {},
   "outputs": [],
   "source": [
    "# Variables Proyecto\n",
    "\n",
    "Pg = m.addVars(N, vtype=GRB.CONTINUOUS, name=\"Pg\")\n",
    "Qg = m.addVars(N, vtype=GRB.CONTINUOUS, name=\"Qg\")\n",
    "P = m.addVars(E, vtype=GRB.CONTINUOUS, name=\"P\")\n",
    "Q = m.addVars(E, vtype=GRB.CONTINUOUS, name=\"Q\")\n",
    "V = m.addVars(N, vtype=GRB.CONTINUOUS, name=\"V\")\n",
    "I = m.addVars(E, vtype=GRB.CONTINUOUS, name=\"I\")\n",
    "deltaV = m.addVars(E, vtype=GRB.CONTINUOUS, lb=float('-inf'), name=\"deltaV\")\n",
    "y = m.addVars(E, vtype=GRB.BINARY, name=\"y\")"
   ]
  },
  {
   "cell_type": "code",
   "execution_count": 47,
   "id": "df459313",
   "metadata": {},
   "outputs": [],
   "source": [
    "# Funcion objetivo\n",
    "\n",
    "m.setObjective(quicksum(R[edge] * I[edge] for edge in E), GRB.MINIMIZE)"
   ]
  },
  {
   "cell_type": "code",
   "execution_count": 48,
   "id": "a209189b",
   "metadata": {},
   "outputs": [
    {
     "data": {
      "text/plain": [
       "<gurobi.Constr *Awaiting Model Update*>"
      ]
     },
     "execution_count": 48,
     "metadata": {},
     "output_type": "execute_result"
    }
   ],
   "source": [
    "# Restricciones Proyecto\n",
    "for node in N:\n",
    "    m.addConstr(quicksum(P[edge] for edge in E if edge[1] == node) - quicksum(P[edge] + R[edge]*I[edge] for edge in E if edge[0] == node) + Pg[node] == Pd[node])\n",
    "    m.addConstr(quicksum(Q[edge] for edge in E if edge[1] == node) - quicksum(Q[edge] + X[edge]*I[edge] for edge in E if edge[0] == node) + Qg[node] == Qd[node])\n",
    "\n",
    "for edge in E:\n",
    "    m.addConstr(V[edge[0]] == V[edge[1]] + 2*(R[edge]*P[edge] + X[edge]*Q[edge]) + Z[edge]**2*I[edge] + deltaV[edge])\n",
    "    m.addConstr(-b*(1-y[edge]) <= deltaV[edge])\n",
    "    m.addConstr(deltaV[edge] <= b*(1-y[edge]))\n",
    "    m.addConstr(V[edge[0]]*I[edge] == P[edge]**2 + Q[edge]**2)\n",
    "\n",
    "for node in N:\n",
    "    m.addConstr(minV**2 <= V[node])\n",
    "    m.addConstr(V[node] <= maxV**2)\n",
    "    m.addConstr(I[edge] <= Imax[edge]*y[edge])\n",
    "    \n",
    "m.addConstr(quicksum(y[edge] for edge in E) == n - 1)\n",
    "\n",
    "# for node in N:\n",
    "#     if node != nref:\n",
    "#         m.addConstr(Pg[node] == 0)\n",
    "#         m.addConstr(Qg[node] == 0)        "
   ]
  },
  {
   "cell_type": "code",
   "execution_count": 49,
   "id": "a6ebffff",
   "metadata": {},
   "outputs": [
    {
     "name": "stdout",
     "output_type": "stream",
     "text": [
      "Set parameter NonConvex to value 2\n",
      "Set parameter FeasibilityTol to value 1e-08\n",
      "Gurobi Optimizer version 10.0.3 build v10.0.3rc0 (win64)\n",
      "\n",
      "CPU model: Intel(R) Core(TM) i7-7700T CPU @ 2.90GHz, instruction set [SSE2|AVX|AVX2]\n",
      "Thread count: 4 physical cores, 8 logical processors, using up to 8 threads\n",
      "\n",
      "Optimize a model with 119 rows, 122 columns and 356 nonzeros\n",
      "Model fingerprint: 0x5600bcc4\n",
      "Model has 16 quadratic constraints\n",
      "Variable types: 106 continuous, 16 integer (16 binary)\n",
      "Coefficient statistics:\n",
      "  Matrix range     [1e+00, 1e+04]\n",
      "  QMatrix range    [1e+00, 1e+00]\n",
      "  Objective range  [4e+00, 1e+01]\n",
      "  Bounds range     [1e+00, 1e+00]\n",
      "  RHS range        [1e+01, 5e+03]\n",
      "Presolve removed 69 rows and 28 columns\n",
      "Presolve time: 0.00s\n",
      "Presolved: 226 rows, 142 columns, 546 nonzeros\n",
      "Presolved model has 48 bilinear constraint(s)\n",
      "Variable types: 126 continuous, 16 integer (16 binary)\n",
      "\n",
      "Root relaxation: objective 0.000000e+00, 28 iterations, 0.00 seconds (0.00 work units)\n",
      "\n",
      "    Nodes    |    Current Node    |     Objective Bounds      |     Work\n",
      " Expl Unexpl |  Obj  Depth IntInf | Incumbent    BestBd   Gap | It/Node Time\n",
      "\n",
      "     0     0    0.00000    0    1          -    0.00000      -     -    0s\n",
      "     0     0    0.00000    0    2          -    0.00000      -     -    0s\n",
      "H    0     0                       0.0000000    0.00000  0.00%     -    0s\n",
      "\n",
      "Explored 1 nodes (29 simplex iterations) in 0.05 seconds (0.00 work units)\n",
      "Thread count was 8 (of 8 available processors)\n",
      "\n",
      "Solution count 1: 0 \n",
      "\n",
      "Optimal solution found (tolerance 1.00e-04)\n",
      "Best objective 0.000000000000e+00, best bound 0.000000000000e+00, gap 0.0000%\n"
     ]
    }
   ],
   "source": [
    "m.setParam(GRB.Param.NonConvex, 2)\n",
    "m.setParam(GRB.Param.FeasibilityTol, tol)\n",
    "m.optimize()"
   ]
  },
  {
   "cell_type": "code",
   "execution_count": 12,
   "id": "352e3213",
   "metadata": {},
   "outputs": [],
   "source": [
    "# Variables Paper\n",
    "\n",
    "Pg = m.addVars(N, vtype=GRB.CONTINUOUS, name=\"Pg\")\n",
    "Qg = m.addVars(N, vtype=GRB.CONTINUOUS, name=\"Qg\")\n",
    "P = m.addVars(E, vtype=GRB.CONTINUOUS, name=\"P\")\n",
    "Q = m.addVars(E, vtype=GRB.CONTINUOUS, name=\"Q\")\n",
    "V = m.addVars(N, vtype=GRB.CONTINUOUS, name=\"V\")\n",
    "I = m.addVars(E, vtype=GRB.CONTINUOUS, name=\"I\")\n",
    "Ppos = m.addVars(E, vtype=GRB.CONTINUOUS, name=\"Ppos\")\n",
    "Pneg = m.addVars(E, vtype=GRB.CONTINUOUS, name=\"Pneg\")\n",
    "Qpos = m.addVars(E, vtype=GRB.CONTINUOUS, name=\"Qpos\")\n",
    "Pneg = m.addVars(E, vtype=GRB.CONTINUOUS, name=\"Pneg\")\n",
    "ypos = m.addVars(E, vtype=GRB.BINARY, name=\"ypos\")\n",
    "yneg = m.addVars(E, vtype=GRB.BINARY, name=\"yneg\")\n",
    "x = m.addVars(N, vtype=GRB.BINARY, name=\"x\")\n",
    "deltaP = m.addVars(E, vtype=GRB.CONTINUOUS, name=\"deltaP\")\n",
    "deltaQ = m.addVars(E, vtype=GRB.CONTINUOUS, name=\"deltaQ\")\n",
    "a = m.addVars(E, vtype=GRB.CONTINUOUS, name=\"a\")\n",
    "Pc = m.addVars(E, vtype=GRB.CONTINUOUS, name=\"Pc\")\n",
    "\n",
    "deltaV = m.addVars(E, vtype=GRB.CONTINUOUS, lb=float('-inf'), name=\"deltaV\")\n",
    "y = m.addVars(E, vtype=GRB.BINARY, name=\"y\")"
   ]
  },
  {
   "cell_type": "code",
   "execution_count": 13,
   "id": "3d9348ab",
   "metadata": {},
   "outputs": [],
   "source": [
    "# Restricciones Paper\n",
    "\n",
    "for node in N:\n",
    "    m.addConstr(quicksum(P[edge] for edge in E if edge[1] == node) - quicksum(P[edge] + R[edge]*I[edge] for edge in E if edge[1] == node) + Pg[node] == Pd[node])\n",
    "    m.addConstr(quicksum(Q[edge] for edge in E if edge[1] == node) - quicksum(Q[edge] + X[edge]*I[edge] for edge in E if edge[1] == node) + Qg[node] == Qd[node])\n",
    "\n",
    "for edge in E:\n",
    "    m.addConstr(V[edge[0]] - 2*(R[edge]*P[edge] + X[edge]*Q[edge]) - Z[edge]**2*I[edge] - V[edge[1]] - a[edge] == 0)\n",
    "    m.addConstr(V[edge[0]]*I[edge] == P[edge]**2 + Q[edge]**2)\n",
    "\n",
    "for node in N:\n",
    "    m.addConstr(minV**2 <= V[node])\n",
    "    m.addConstr(V[node] <= maxV**2)\n",
    "    \n",
    "for edge in E:\n",
    "    m.addConstr(I[edge] <= Imax[edge]**2*(ypos[edge] + yneg[edge]))\n",
    "    m.addConstr(Ppos[edge] - Pneg[edge] == P[edge])\n",
    "    m.addConstr(Ppos[edge] <= maxV*Imax[edge]*ypos[edge])\n",
    "    m.addConstr(Pneg[edge] <= maxV*Imax[edge]*yneg[edge])\n",
    "    m.addConstr(-maxV*Imax[edge]*(ypos[edge] + yneg[edge]) <= Q[edge])\n",
    "    m.addConstr(Q[edge] <= maxV*Imax[edge]*(ypos[edge] + yneg[edge]))\n",
    "    m.addConstr(a[edge] <= (maxV**2-minV**2)*(1-(ypos[edge] + yneg[edge])))\n",
    "\n",
    "m.addConstr(quicksum(ypos[edge] + yneg[edge] for edge in E) == n - 1)\n",
    "for edge in E:\n",
    "    m.addConstr(ypos[edge] + yneg[edge] <= 1)\n",
    "    m.addConstr(ypos[edge] <= 1)\n",
    "    m.addConstr(yneg[edge] <= 1)    "
   ]
  },
  {
   "cell_type": "code",
   "execution_count": 127,
   "id": "ed990933",
   "metadata": {},
   "outputs": [
    {
     "data": {
      "image/png": "[encoded data removed]",
      "text/plain": [
       "<Figure size 864x864 with 1 Axes>"
      ]
     },
     "metadata": {},
     "output_type": "display_data"
    }
   ],
   "source": [
    "import networkx as nx\n",
    "import matplotlib.pyplot as plt\n",
    "\n",
    "G = nx.DiGraph()\n",
    "\n",
    "active_edges = [edge for edge in E if m.getVarByName(f'y[{edge[0]},{edge[1]}]').X == 1]\n",
    "G.add_nodes_from(N)\n",
    "G.add_edges_from(active_edges)\n",
    "\n",
    "pos = nx.spectral_layout(G)\n",
    "plt.figure(3,figsize=(12,12)) \n",
    "nx.draw(G, node_size=500, node_color=\"skyblue\", pos=pos)\n",
    "nx.draw_networkx_edge_labels(\n",
    "    G, pos,\n",
    "    edge_labels={edge: str(m.getVarByName(f'P[{edge[0]},{edge[1]}]').X) +\"-\"+ str(m.getVarByName(f'Q[{edge[0]},{edge[1]}]').X) + \"-\" + str(m.getVarByName(f'I[{edge[0]},{edge[1]}]').X) for edge in active_edges}\n",
    ")\n",
    "nx.draw_networkx_labels(G, pos, {node: str(node) + \"-\" + str(round(m.getVarByName(f'V[{node}]').X)) for node in N})\n",
    "plt.show()"
   ]
  },
  {
   "cell_type": "code",
   "execution_count": null,
   "id": "d836a65f",
   "metadata": {},
   "outputs": [],
   "source": []
  }
 ],
 "metadata": {
  "kernelspec": {
   "display_name": "Python 3",
   "language": "python",
   "name": "python3"
  },
  "language_info": {
   "codemirror_mode": {
    "name": "ipython",
    "version": 3
   },
   "file_extension": ".py",
   "mimetype": "text/x-python",
   "name": "python",
   "nbconvert_exporter": "python",
   "pygments_lexer": "ipython3",
   "version": "3.9.11"
  }
 },
 "nbformat": 4,
 "nbformat_minor": 5
}
